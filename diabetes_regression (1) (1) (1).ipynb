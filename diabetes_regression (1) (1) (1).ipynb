{
 "cells": [
  {
   "cell_type": "code",
   "execution_count": null,
   "id": "2211f97c",
   "metadata": {},
   "outputs": [],
   "source": [
    "import pandas as pd\n",
    "import numpy as np\n",
    "from sklearn.model_selection import train_test_split\n",
    "from sklearn.preprocessing import MinMaxScaler, StandardScaler\n",
    "\n",
    "# Read diabetes.csv into a DataFrame\n",
    "data = pd.read_csv('diabetes.csv')\n",
    "\n",
    "# Check the first few rows and column names to verify the data\n",
    "print(data.head())\n",
    "print(data.columns)\n",
    "\n",
    "# Define independent (X) and dependent (y) variables\n",
    "X = data.drop('progression', axis=1)\n",
    "y = data['progression']\n",
    "\n",
    "# Generate training and test sets (80% - 20% split)\n",
    "X_train, X_test, y_train, y_test = train_test_split(X, y, test_size=0.2, random_state=42)\n",
    "\n",
    "# Use MinMaxScaler and StandardScaler from sklearn\n",
    "minmax_scaler = MinMaxScaler()\n",
    "standard_scaler = StandardScaler()\n",
    "\n",
    "# Fit scalers on the training set and transform both train and test sets\n",
    "X_train_minmax_scaled = minmax_scaler.fit_transform(X_train)\n",
    "X_test_minmax_scaled = minmax_scaler.transform(X_test)\n",
    "\n",
    "X_train_standard_scaled = standard_scaler.fit_transform(X_train)\n",
    "X_test_standard_scaled = standard_scaler.transform(X_test)\n",
    "\n"
   ]
  },
  {
   "cell_type": "code",
   "execution_count": null,
   "id": "85818c99",
   "metadata": {},
   "outputs": [],
   "source": [
    "from sklearn.linear_model import LinearRegression\n",
    "from sklearn.metrics import mean_squared_error, r2_score\n",
    "\n",
    "# Create a Multiple Linear Regression model\n",
    "regression_model = LinearRegression()\n",
    "\n",
    "# Train the model on the training set\n",
    "regression_model.fit(X_train_standard_scaled, y_train)\n",
    "\n",
    "# Print intercept and coefficients of the trained model\n",
    "print(\"Intercept:\", regression_model.intercept_)\n",
    "print(\"Coefficients:\", regression_model.coef_)\n",
    "\n",
    "# Generate predictions for the test set\n",
    "y_pred = regression_model.predict(X_test_standard_scaled)\n",
    "\n",
    "# Compute R-squared using the r2_score method\n",
    "r2_score_value = r2_score(y_test, y_pred)\n",
    "print(\"R-squared:\", r2_score_value)\n",
    "\n",
    "# Describe the R-squared value\n",
    "if r2_score_value >= 0.7:\n",
    "    print(\"The model explains a high proportion of the variance in the target variable.\")\n",
    "elif 0.5 <= r2_score_value < 0.7:\n",
    "    print(\"The model explains a moderate proportion of the variance in the target variable.\")\n",
    "else:\n",
    "    print(\"The model explains a low proportion of the variance in the target variable.\")\n"
   ]
  },
  {
   "cell_type": "code",
   "execution_count": 1,
   "id": "f436d787",
   "metadata": {
    "scrolled": true
   },
   "outputs": [
    {
     "ename": "NameError",
     "evalue": "name 'np' is not defined",
     "output_type": "error",
     "traceback": [
      "\u001b[1;31m---------------------------------------------------------------------------\u001b[0m",
      "\u001b[1;31mNameError\u001b[0m                                 Traceback (most recent call last)",
      "Cell \u001b[1;32mIn[1], line 2\u001b[0m\n\u001b[0;32m      1\u001b[0m \u001b[38;5;66;03m# Compute RMSE (Root Mean Squared Error)\u001b[39;00m\n\u001b[1;32m----> 2\u001b[0m rmse \u001b[38;5;241m=\u001b[39m np\u001b[38;5;241m.\u001b[39msqrt(mean_squared_error(y_test, y_pred))\n\u001b[0;32m      3\u001b[0m \u001b[38;5;28mprint\u001b[39m(\u001b[38;5;124m\"\u001b[39m\u001b[38;5;124mRMSE:\u001b[39m\u001b[38;5;124m\"\u001b[39m, rmse)\n",
      "\u001b[1;31mNameError\u001b[0m: name 'np' is not defined"
     ]
    }
   ],
   "source": [
    "# Compute RMSE (Root Mean Squared Error)\n",
    "rmse = np.sqrt(mean_squared_error(y_test, y_pred))\n",
    "print(\"RMSE:\", rmse)\n"
   ]
  },
  {
   "cell_type": "code",
   "execution_count": null,
   "id": "f78e46ff",
   "metadata": {},
   "outputs": [],
   "source": []
  }
 ],
 "metadata": {
  "kernelspec": {
   "display_name": "Python 3 (ipykernel)",
   "language": "python",
   "name": "python3"
  },
  "language_info": {
   "codemirror_mode": {
    "name": "ipython",
    "version": 3
   },
   "file_extension": ".py",
   "mimetype": "text/x-python",
   "name": "python",
   "nbconvert_exporter": "python",
   "pygments_lexer": "ipython3",
   "version": "3.11.3"
  }
 },
 "nbformat": 4,
 "nbformat_minor": 5
}
