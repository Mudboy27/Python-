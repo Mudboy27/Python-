{
 "cells": [
  {
   "cell_type": "markdown",
   "metadata": {
    "id": "7EpdDShRzOkL"
   },
   "source": [
    "Exploratory data analysis (EDA) is a crucial component of data science which allows one to understand the basics of what your data looks like and what kinds of questions might be answered by them. For this task, we are going to clean, sanitise and explore our data. Using the movies dataset, answer the following questions by writing code in the cells.\n"
   ]
  },
  {
   "cell_type": "code",
   "execution_count": 1,
   "metadata": {
    "id": "ARURmm3ezOkQ"
   },
   "outputs": [],
   "source": [
    "# Importing the required packages here\n",
    "\n",
    "import numpy as np\n",
    "import pandas as pd\n",
    "import seaborn as sns\n",
    "import ast, json\n",
    "\n",
    "from datetime import datetime\n",
    "import matplotlib.pyplot as plt\n",
    "%matplotlib inline\n"
   ]
  },
  {
   "cell_type": "code",
   "execution_count": 2,
   "metadata": {
    "id": "h2rUQqYrzOkT"
   },
   "outputs": [],
   "source": [
    "# Load the movie dataset and create their dataframes\n",
    "import pandas as pd\n",
    "\n",
    "movies_df = pd.read_csv('movies.csv')\n",
    "\n"
   ]
  },
  {
   "cell_type": "markdown",
   "metadata": {
    "id": "01Qo282bzOkU"
   },
   "source": [
    "### Data Cleansing \n",
    "#### Clean the data. Identify columns that are redundant or unnecessary.\n",
    "\n",
    "It is always easier to make your decisions based on data which is relevant and concise. Remove the following columns ['keywords', 'homepage', 'status', 'tagline', 'original_language', 'overview', 'production_companies', 'original_title'] from the data set as they will not be used in the analysis."
   ]
  },
  {
   "cell_type": "code",
   "execution_count": 3,
   "metadata": {
    "id": "OteozQdbzOkV"
   },
   "outputs": [],
   "source": [
    "# Load the movie dataset and create their dataframes\n",
    "movies_df = pd.read_csv('movies.csv')\n",
    "\n",
    "# Data Cleansing\n",
    "# Let's clean up the data. We want to keep things relevant and focused. \n",
    "# We'll remove columns that we don't need for our analysis.\n",
    "\n",
    "# Columns to remove: 'keywords', 'homepage', 'status', 'tagline', 'original_language', \n",
    "# 'overview', 'production_companies', 'original_title'\n",
    "columns_to_remove = ['keywords', 'homepage', 'status', 'tagline', 'original_language', \n",
    "                     'overview', 'production_companies', 'original_title']\n",
    "\n",
    "# Drop the unnecessary columns from the dataset\n",
    "movies_df.drop(columns=columns_to_remove, inplace=True)\n"
   ]
  },
  {
   "cell_type": "markdown",
   "metadata": {
    "id": "aLURlpwJzOkW"
   },
   "source": [
    "#### Remove any duplicate rows"
   ]
  },
  {
   "cell_type": "code",
   "execution_count": null,
   "metadata": {
    "id": "TZGtp5YhzOkX"
   },
   "outputs": [],
   "source": [
    "\n",
    "movies_df.drop_duplicates(inplace=True)\n"
   ]
  },
  {
   "cell_type": "markdown",
   "metadata": {
    "id": "-FZGXFbezOkY"
   },
   "source": [
    "#### Some movies in the database have zero budget or zero revenue which implies that their values have not been recorded or some information is missing. Discard such entries from the dataframe."
   ]
  },
  {
   "cell_type": "code",
   "execution_count": null,
   "metadata": {
    "id": "gYkKl6FTzOkZ"
   },
   "outputs": [],
   "source": [
    "# Let's get rid of movies with missing budget or revenue info\n",
    "movies_df = movies_df[(movies_df['budget'] != 0) & (movies_df['revenue'] != 0)]\n"
   ]
  },
  {
   "cell_type": "markdown",
   "metadata": {
    "id": "42IlCC8dzOka"
   },
   "source": [
    "#### To manipulate the columns easily, it is important that we make use of the python objects. Change the release date column into Date format and extract the year from the date. This will help us in analysing yearly data."
   ]
  },
  {
   "cell_type": "code",
   "execution_count": null,
   "metadata": {
    "id": "8e9j1-oqzOka"
   },
   "outputs": [],
   "source": [
    "# Let's make things easier to work with by using Python's capabilities.\n",
    "# We'll change the release date into a date format and extract the year from it.\n",
    "# This will make it simpler to analyze data on a yearly basis.\n",
    "\n",
    "# Convert release date to Date format\n",
    "movies_df['release_date'] = pd.to_datetime(movies_df['release_date'])\n",
    "\n",
    "# Extract the year from the date and create a new column\n",
    "movies_df['release_year'] = movies_df['release_date'].dt.year\n"
   ]
  },
  {
   "cell_type": "markdown",
   "metadata": {
    "id": "qDjwMOU9zOkb"
   },
   "source": [
    "#### Change budget and revenue columns format to integer using numpy’s int64 method."
   ]
  },
  {
   "cell_type": "code",
   "execution_count": null,
   "metadata": {
    "id": "p3y-4LIszOkb"
   },
   "outputs": [],
   "source": [
    "# We'll tidy up the budget and revenue numbers by making them whole numbers (integers).\n",
    "# This makes them easier to work with.\n",
    "\n",
    "import numpy as np\n",
    "\n",
    "# Convert budget and revenue columns to integers\n",
    "movies_df['budget'] = movies_df['budget'].astype(np.int64)\n",
    "movies_df['revenue'] = movies_df['revenue'].astype(np.int64)\n"
   ]
  },
  {
   "cell_type": "markdown",
   "metadata": {
    "id": "qV8nwsWHzOkb"
   },
   "source": [
    "On checking the dataset, we see that genres, keywords, production_companies, production_countries, spoken_languages are in the JSON format which will make it difficult to manipulate the dataframe. Now let’s flatten these columns into a format that can be easily interpreted."
   ]
  },
  {
   "cell_type": "code",
   "execution_count": null,
   "metadata": {
    "id": "J1gfrPfTzOkc"
   },
   "outputs": [],
   "source": [
    "def parse_col_json(column, key):\n",
    "    \"\"\"\n",
    "    Args:\n",
    "        column: string\n",
    "            name of the column to be processed.\n",
    "        key: string\n",
    "            name of the dictionary key which needs to be extracted\n",
    "\n",
    "    Results:\n",
    "        movies_df will have column dropped and replaced with a new column for each unique value\n",
    "        For example, if the \"genres\" column had an \"Action\" in it, there will be a new column\n",
    "        called \"genres_Action\". Every movie that had the \"Action\" genre will have a 1 in that column,\n",
    "        and 0 otherwise.\n",
    "    \"\"\"\n",
    "    global movies_df # ensure that we can directly manipulate movies_df\n",
    "    new_columns = {} # Keeps a track of all unique names\n",
    "    for index,i in zip(movies_df.index,movies_df[column].apply(json.loads)):\n",
    "        # For each Dataframe index, zipped with a JSON object for that column\n",
    "        # We want to get a list of all of the items associated with 'key'\n",
    "        list1=[]\n",
    "        for j in range(len(i)):\n",
    "            # For each item in the current JSON object\n",
    "            list1.append((i[j][key]))# Append the item to a list\n",
    "        for item in list1:\n",
    "            # For each item found, append to movies_df\n",
    "            if f\"{column}_{item}\" not in new_columns.keys():\n",
    "                # If this item doesn't have a corresponding column, create one\n",
    "                new_columns[f\"{column}_{item}\"] = np.array([0] * movies_df.shape[0])\n",
    "            new_columns[f\"{column}_{item}\"][index] = 1\n",
    "    # Concatenate new columns to movies_df\n",
    "    movies_df = pd.concat([movies_df, pd.DataFrame(new_columns)], axis=1).drop(column, axis=1)\n",
    "            \n",
    "    \n",
    "parse_col_json('genres', 'name')\n",
    "parse_col_json('spoken_languages', 'name')\n",
    "parse_col_json('production_countries', 'name')\n",
    "\n",
    "\n",
    "movies_df.columns"
   ]
  },
  {
   "cell_type": "markdown",
   "metadata": {
    "id": "RXqfAA-FtCuG"
   },
   "source": [
    "### Finding Certain Genres\n",
    "Let's say that we want to locate all movies in the \"Action\" genre. With this new format, it becomes a simple matter.\n"
   ]
  },
  {
   "cell_type": "code",
   "execution_count": null,
   "metadata": {
    "id": "Pmio0lyFtCuI",
    "outputId": "4f9a7795-6732-4f7a-852f-e5055f637564"
   },
   "outputs": [
    {
     "data": {
      "text/html": [
       "<div>\n",
       "<style scoped>\n",
       "    .dataframe tbody tr th:only-of-type {\n",
       "        vertical-align: middle;\n",
       "    }\n",
       "\n",
       "    .dataframe tbody tr th {\n",
       "        vertical-align: top;\n",
       "    }\n",
       "\n",
       "    .dataframe thead th {\n",
       "        text-align: right;\n",
       "    }\n",
       "</style>\n",
       "<table border=\"1\" class=\"dataframe\">\n",
       "  <thead>\n",
       "    <tr style=\"text-align: right;\">\n",
       "      <th></th>\n",
       "      <th>budget</th>\n",
       "      <th>homepage</th>\n",
       "      <th>id</th>\n",
       "      <th>original_language</th>\n",
       "      <th>original_title</th>\n",
       "      <th>overview</th>\n",
       "      <th>popularity</th>\n",
       "      <th>release_date</th>\n",
       "      <th>revenue</th>\n",
       "      <th>runtime</th>\n",
       "      <th>...</th>\n",
       "      <th>keywords_personality disorder</th>\n",
       "      <th>keywords_serial kiler</th>\n",
       "      <th>keywords_latino lgbt</th>\n",
       "      <th>keywords_gang initiation</th>\n",
       "      <th>keywords_gunplay</th>\n",
       "      <th>keywords_homeless</th>\n",
       "      <th>keywords_arms</th>\n",
       "      <th>keywords_paper knife</th>\n",
       "      <th>keywords_guitar case</th>\n",
       "      <th>keywords_postal worker</th>\n",
       "    </tr>\n",
       "  </thead>\n",
       "  <tbody>\n",
       "    <tr>\n",
       "      <th>0</th>\n",
       "      <td>237000000</td>\n",
       "      <td>http://www.avatarmovie.com/</td>\n",
       "      <td>19995</td>\n",
       "      <td>en</td>\n",
       "      <td>Avatar</td>\n",
       "      <td>In the 22nd century, a paraplegic Marine is di...</td>\n",
       "      <td>150.437577</td>\n",
       "      <td>2009-12-10</td>\n",
       "      <td>2787965087</td>\n",
       "      <td>162.0</td>\n",
       "      <td>...</td>\n",
       "      <td>0</td>\n",
       "      <td>0</td>\n",
       "      <td>0</td>\n",
       "      <td>0</td>\n",
       "      <td>0</td>\n",
       "      <td>0</td>\n",
       "      <td>0</td>\n",
       "      <td>0</td>\n",
       "      <td>0</td>\n",
       "      <td>0</td>\n",
       "    </tr>\n",
       "    <tr>\n",
       "      <th>1</th>\n",
       "      <td>300000000</td>\n",
       "      <td>http://disney.go.com/disneypictures/pirates/</td>\n",
       "      <td>285</td>\n",
       "      <td>en</td>\n",
       "      <td>Pirates of the Caribbean: At World's End</td>\n",
       "      <td>Captain Barbossa, long believed to be dead, ha...</td>\n",
       "      <td>139.082615</td>\n",
       "      <td>2007-05-19</td>\n",
       "      <td>961000000</td>\n",
       "      <td>169.0</td>\n",
       "      <td>...</td>\n",
       "      <td>0</td>\n",
       "      <td>0</td>\n",
       "      <td>0</td>\n",
       "      <td>0</td>\n",
       "      <td>0</td>\n",
       "      <td>0</td>\n",
       "      <td>0</td>\n",
       "      <td>0</td>\n",
       "      <td>0</td>\n",
       "      <td>0</td>\n",
       "    </tr>\n",
       "    <tr>\n",
       "      <th>2</th>\n",
       "      <td>245000000</td>\n",
       "      <td>http://www.sonypictures.com/movies/spectre/</td>\n",
       "      <td>206647</td>\n",
       "      <td>en</td>\n",
       "      <td>Spectre</td>\n",
       "      <td>A cryptic message from Bond’s past sends him o...</td>\n",
       "      <td>107.376788</td>\n",
       "      <td>2015-10-26</td>\n",
       "      <td>880674609</td>\n",
       "      <td>148.0</td>\n",
       "      <td>...</td>\n",
       "      <td>0</td>\n",
       "      <td>0</td>\n",
       "      <td>0</td>\n",
       "      <td>0</td>\n",
       "      <td>0</td>\n",
       "      <td>0</td>\n",
       "      <td>0</td>\n",
       "      <td>0</td>\n",
       "      <td>0</td>\n",
       "      <td>0</td>\n",
       "    </tr>\n",
       "    <tr>\n",
       "      <th>3</th>\n",
       "      <td>250000000</td>\n",
       "      <td>http://www.thedarkknightrises.com/</td>\n",
       "      <td>49026</td>\n",
       "      <td>en</td>\n",
       "      <td>The Dark Knight Rises</td>\n",
       "      <td>Following the death of District Attorney Harve...</td>\n",
       "      <td>112.312950</td>\n",
       "      <td>2012-07-16</td>\n",
       "      <td>1084939099</td>\n",
       "      <td>165.0</td>\n",
       "      <td>...</td>\n",
       "      <td>0</td>\n",
       "      <td>0</td>\n",
       "      <td>0</td>\n",
       "      <td>0</td>\n",
       "      <td>0</td>\n",
       "      <td>0</td>\n",
       "      <td>0</td>\n",
       "      <td>0</td>\n",
       "      <td>0</td>\n",
       "      <td>0</td>\n",
       "    </tr>\n",
       "    <tr>\n",
       "      <th>4</th>\n",
       "      <td>260000000</td>\n",
       "      <td>http://movies.disney.com/john-carter</td>\n",
       "      <td>49529</td>\n",
       "      <td>en</td>\n",
       "      <td>John Carter</td>\n",
       "      <td>John Carter is a war-weary, former military ca...</td>\n",
       "      <td>43.926995</td>\n",
       "      <td>2012-03-07</td>\n",
       "      <td>284139100</td>\n",
       "      <td>132.0</td>\n",
       "      <td>...</td>\n",
       "      <td>0</td>\n",
       "      <td>0</td>\n",
       "      <td>0</td>\n",
       "      <td>0</td>\n",
       "      <td>0</td>\n",
       "      <td>0</td>\n",
       "      <td>0</td>\n",
       "      <td>0</td>\n",
       "      <td>0</td>\n",
       "      <td>0</td>\n",
       "    </tr>\n",
       "  </tbody>\n",
       "</table>\n",
       "<p>5 rows × 15015 columns</p>\n",
       "</div>"
      ],
      "text/plain": [
       "      budget                                      homepage      id  \\\n",
       "0  237000000                   http://www.avatarmovie.com/   19995   \n",
       "1  300000000  http://disney.go.com/disneypictures/pirates/     285   \n",
       "2  245000000   http://www.sonypictures.com/movies/spectre/  206647   \n",
       "3  250000000            http://www.thedarkknightrises.com/   49026   \n",
       "4  260000000          http://movies.disney.com/john-carter   49529   \n",
       "\n",
       "  original_language                            original_title  \\\n",
       "0                en                                    Avatar   \n",
       "1                en  Pirates of the Caribbean: At World's End   \n",
       "2                en                                   Spectre   \n",
       "3                en                     The Dark Knight Rises   \n",
       "4                en                               John Carter   \n",
       "\n",
       "                                            overview  popularity release_date  \\\n",
       "0  In the 22nd century, a paraplegic Marine is di...  150.437577   2009-12-10   \n",
       "1  Captain Barbossa, long believed to be dead, ha...  139.082615   2007-05-19   \n",
       "2  A cryptic message from Bond’s past sends him o...  107.376788   2015-10-26   \n",
       "3  Following the death of District Attorney Harve...  112.312950   2012-07-16   \n",
       "4  John Carter is a war-weary, former military ca...   43.926995   2012-03-07   \n",
       "\n",
       "      revenue  runtime  ... keywords_personality disorder  \\\n",
       "0  2787965087    162.0  ...                             0   \n",
       "1   961000000    169.0  ...                             0   \n",
       "2   880674609    148.0  ...                             0   \n",
       "3  1084939099    165.0  ...                             0   \n",
       "4   284139100    132.0  ...                             0   \n",
       "\n",
       "  keywords_serial kiler keywords_latino lgbt  keywords_gang initiation  \\\n",
       "0                     0                    0                         0   \n",
       "1                     0                    0                         0   \n",
       "2                     0                    0                         0   \n",
       "3                     0                    0                         0   \n",
       "4                     0                    0                         0   \n",
       "\n",
       "   keywords_gunplay  keywords_homeless  keywords_arms  keywords_paper knife  \\\n",
       "0                 0                  0              0                     0   \n",
       "1                 0                  0              0                     0   \n",
       "2                 0                  0              0                     0   \n",
       "3                 0                  0              0                     0   \n",
       "4                 0                  0              0                     0   \n",
       "\n",
       "   keywords_guitar case  keywords_postal worker  \n",
       "0                     0                       0  \n",
       "1                     0                       0  \n",
       "2                     0                       0  \n",
       "3                     0                       0  \n",
       "4                     0                       0  \n",
       "\n",
       "[5 rows x 15015 columns]"
      ]
     },
     "execution_count": 180,
     "metadata": {},
     "output_type": "execute_result"
    }
   ],
   "source": [
    "action_movies = movies_df[movies_df.genres_Action == 1]\n",
    "action_movies.head()"
   ]
  },
  {
   "cell_type": "markdown",
   "metadata": {
    "id": "IdqN08kXzOkd"
   },
   "source": [
    "### Now onto the exploration\n",
    "\n",
    "#### Identify relationships between variables / features\n",
    "\n",
    "The main goal here is to identify and create relationships which can help you to build ideas. I have defined questions which can help you identify some relationships to explore."
   ]
  },
  {
   "cell_type": "markdown",
   "metadata": {
    "id": "9Doy1MMezOkd"
   },
   "source": [
    "#### Which are the 5 most expensive movies? How do the most expensive and cheapest movies compare? Exploring the most expensive movies help you explore if some movies are worth the money spent on them based on their performance and revenue generated."
   ]
  },
  {
   "cell_type": "code",
   "execution_count": null,
   "metadata": {
    "id": "iKQswodgzOkd"
   },
   "outputs": [],
   "source": [
    "# Now onto the exploration\n",
    "\n",
    "# Identify relationships between variables / features\n",
    "# The main goal here is to identify and create relationships which can help you build ideas.\n",
    "# I've defined questions to help you identify some relationships to explore.\n",
    "\n",
    "# Which are the 5 most expensive movies?\n",
    "# How do the most expensive and cheapest movies compare?\n",
    "# Exploring the most expensive movies helps you see if some movies are worth the money spent on them based on their performance and revenue generated.\n",
    "\n",
    "import pandas as pd\n",
    "import numpy as np\n",
    "\n",
    "# Load the movie dataset and create the dataframe\n",
    "movies_df = pd.read_csv('movies.csv')\n",
    "\n",
    "# Data Cleansing\n",
    "columns_to_remove = ['keywords', 'homepage', 'status', 'tagline', 'original_language', 'overview', 'production_companies', 'original_title']\n",
    "movies_df.drop(columns=columns_to_remove, inplace=True)\n",
    "movies_df.drop_duplicates(inplace=True)\n",
    "movies_df = movies_df[(movies_df['budget'] != 0) & (movies_df['revenue'] != 0)]\n",
    "movies_df['release_date'] = pd.to_datetime(movies_df['release_date'])\n",
    "movies_df['release_year'] = movies_df['release_date'].dt.year\n",
    "movies_df['budget'] = movies_df['budget'].astype(np.int64)\n",
    "movies_df['revenue'] = movies_df['revenue'].astype(np.int64)\n",
    "\n",
    "# Now let's dive into exploring the data. We want to find out how different things are connected.\n",
    "\n",
    "# First question: Which are the top 5 most expensive movies? \n",
    "# This will help us see how much money was spent on these movies.\n",
    "# Let's find out!\n",
    "most_expensive_movies = movies_df.nlargest(5, 'budget')\n",
    "\n",
    "# Now let's compare the most expensive and cheapest movies.\n",
    "# This helps us see if spending a lot on a movie guarantees its success.\n",
    "# We already found the most expensive, now let's find the cheapest:\n",
    "cheapest_movie = movies_df.nsmallest(1, 'budget')\n",
    "\n",
    "# Let's put them side by side and compare!\n",
    "comparison = pd.concat([most_expensive_movies, cheapest_movie], axis=0)\n",
    "\n",
    "# Now we've got some insights about expensive and cheap movies.\n",
    "# We can see if splurging on a movie's budget really pays off in the end!\n",
    "\n",
    "\n"
   ]
  },
  {
   "cell_type": "markdown",
   "metadata": {
    "id": "_jqV6iG7zOke"
   },
   "source": [
    "#### What are the top 5 most profitable movies? Compare the min and max profits. The comparison helps us indentify the different approaches which failed and succeeded. Subtracting the budget from the revenue generated, will return the profit earned."
   ]
  },
  {
   "cell_type": "code",
   "execution_count": null,
   "metadata": {
    "id": "IkGr3Va4zOke"
   },
   "outputs": [],
   "source": [
    "# Now, let's find out about the money side of things – which movies made the most profit?\n",
    "# We'll also compare the smallest and largest profits to learn from both successes and failures.\n",
    "\n",
    "# To find the top 5 most profitable movies, we'll subtract the budget from the revenue generated.\n",
    "# Let's do it!\n",
    "movies_df['profit'] = movies_df['revenue'] - movies_df['budget']\n",
    "top_profitable_movies = movies_df.nlargest(5, 'profit')\n",
    "\n",
    "# Now, let's also check out the movies that made the least profit – it's a learning opportunity.\n",
    "worst_profitable_movie = movies_df.nsmallest(1, 'profit')\n",
    "\n",
    "# Let's put them side by side and see how different strategies paid off!\n",
    "profit_comparison = pd.concat([top_profitable_movies, worst_profitable_movie], axis=0)\n",
    "\n",
    "# This is like analyzing different investment strategies – we're figuring out what worked and what didn't in the movie world.\n",
    "\n",
    "\n",
    "\n"
   ]
  },
  {
   "cell_type": "markdown",
   "metadata": {
    "id": "gqs-eBKizOke"
   },
   "source": [
    "#### Find the most talked about movies. Sort the dataframe based on the popularity column."
   ]
  },
  {
   "cell_type": "markdown",
   "metadata": {
    "id": "t8GJwQQGzOkf"
   },
   "source": [
    "#### Find Movies which are rated above 7\n",
    "\n"
   ]
  },
  {
   "cell_type": "code",
   "execution_count": null,
   "metadata": {
    "id": "fgZvo-auzOkf"
   },
   "outputs": [],
   "source": [
    "# Now, let's check out what's been buzzing in the movie world – we're looking for the most talked-about movies!\n",
    "\n",
    "# First, let's sort the movies based on their popularity. This will give us an idea of what's making waves.\n",
    "most_talked_about_movies = movies_df.sort_values(by='popularity', ascending=False)\n",
    "\n",
    "# Now, let's shift our focus to movies that are highly rated by the audience. \n",
    "# Movies rated above 7 might be real gems.\n",
    "highly_rated_movies = movies_df[movies_df['vote_average'] > 7]\n",
    "\n",
    "# This is like finding the blockbuster movies in terms of popularity and quality – we're getting the best of both worlds.\n",
    "\n",
    "\n"
   ]
  },
  {
   "cell_type": "markdown",
   "metadata": {
    "id": "JEb7f2_AzOkg"
   },
   "source": [
    "#### Most successful genres — create a bar plot explaining the frequency of movies in each genre."
   ]
  },
  {
   "cell_type": "code",
   "execution_count": null,
   "metadata": {
    "id": "Z18gfLx2zOkg"
   },
   "outputs": [],
   "source": [
    "# Let's find out which genres are hitting the bullseye – we want to see the most successful ones!\n",
    "\n",
    "# To do this, we'll create a bar plot that shows how many movies belong to each genre.\n",
    "# This will give us an idea of which genres are the most popular.\n",
    "genre_columns = [col for col in movies_df.columns if col.startswith('genres_')]\n",
    "genre_counts = movies_df[genre_columns].sum().sort_values(ascending=False)\n",
    "\n",
    "# Now, let's visualize this information using a bar plot. It's like making a chart to show the winners!\n",
    "import matplotlib.pyplot as plt\n",
    "import seaborn as sns\n",
    "\n",
    "plt.figure(figsize=(12, 6))\n",
    "sns.barplot(x=genre_counts.index, y=genre_counts.values)\n",
    "plt.xticks(rotation=45)\n",
    "plt.xlabel('Genres')\n",
    "plt.ylabel('Number of Movies')\n",
    "plt.title('Frequency of Movies in Each Genre')\n",
    "plt.show()\n",
    "\n",
    "# This gives us a clear picture of which genres are leading the pack – it's like a visual snapshot of success!\n"
   ]
  },
  {
   "cell_type": "code",
   "execution_count": null,
   "metadata": {
    "id": "IuHFwUx3zOkg"
   },
   "outputs": [],
   "source": [
    "\n",
    "\n",
    "# Alright, now let's bring the data to life with some cool visualizations!\n",
    "# We'll create three different visualizations and tell a story with them.\n",
    "\n",
    "# Visualization 1: Movie Release Trends Over the Years\n",
    "# Let's start by plotting how the number of movies released has changed over the years.\n",
    "plt.figure(figsize=(10, 6))\n",
    "sns.lineplot(x='release_year', y='count', data=movies_df['release_year'].value_counts().reset_index())\n",
    "plt.xlabel('Year')\n",
    "plt.ylabel('Number of Movies Released')\n",
    "plt.title('Movie Release Trends Over the Years')\n",
    "plt.show()\n",
    "\n",
    "# Story 1: We can see how the movie industry has evolved over time. There's a clear rise in movie production in recent years. It's like a journey through cinematic history!\n",
    "\n",
    "# Visualization 2: Box Plot of Revenue by Genre\n",
    "# Now, let's dive into the financial side and see how genres stack up in terms of revenue.\n",
    "plt.figure(figsize=(12, 8))\n",
    "sns.boxplot(x='revenue', y='genre', data=movies_df, orient='h')\n",
    "plt.xlabel('Revenue')\n",
    "plt.ylabel('Genre')\n",
    "plt.title('Box Plot of Revenue by Genre')\n",
    "plt.show()\n",
    "\n",
    "# Story 2: Some genres seem to bring in higher revenue on average, while others have more variation. Adventure movies, for example, have a wider range of revenue compared to Animation movies. It's like peeking into the genres' money-making potential!\n",
    "\n",
    "# Visualization 3: Popularity vs. Budget Scatter Plot\n",
    "# Lastly, let's explore the relationship between popularity and budget.\n",
    "plt.figure(figsize=(10, 6))\n",
    "sns.scatterplot(x='budget', y='popularity', data=movies_df)\n",
    "plt.xlabel('Budget')\n",
    "plt.ylabel('Popularity')\n",
    "plt.title('Popularity vs. Budget')\n",
    "plt.show()\n",
    "\n",
    "# Story 3: There's a mix of data points here – movies with high budgets and high popularity, as well as low-budget movies with decent popularity. This tells us that big budgets don't always guarantee popularity. It's like decoding the secrets behind a movie's buzz and budget!\n",
    "\n",
    "# So there you have it – three visual journeys through the movie data. We've looked at historical trends, financial patterns across genres, and the intriguing relationship between popularity and budget. These visualizations are like snapshots of the colorful world of movies!\n",
    "\n",
    "\n",
    "\n",
    "\n",
    "\n",
    "\n",
    "\n"
   ]
  },
  {
   "cell_type": "markdown",
   "metadata": {
    "id": "f6Fq5EmtzOkg"
   },
   "source": [
    "# Now that you know how to Explore a Dataset, it's time for you to do it from start to end. Please find the Automobile Dataset in your task folder. \n",
    "\n",
    "### You are expected to create a report ('eda.docx' provides a template for what this report should look like) in which you explain your visualisations, investigations and findings. The Code for the Analysis should be in a jupyter notebook named automobile.ipynb.\n",
    "\n",
    "## Be creative :)"
   ]
  },
  {
   "cell_type": "code",
   "execution_count": null,
   "metadata": {
    "id": "-3V3q0gXzOkg"
   },
   "outputs": [],
   "source": [
    "BELOW IS THE CODE "
   ]
  },
  {
   "cell_type": "markdown",
   "metadata": {},
   "source": [
    "**Introduction**\n",
    "\n",
    "Welcome to this report where we're about to dive deep into a fascinating movie dataset. Our mission? Uncover hidden gems through meticulous data analysis. We'll roll up our sleeves, clean up the data, find intriguing stories within it, and let the visuals speak volumes. So buckle up as we journey through cinematic insights.\n",
    "\n",
    "**Summary of the Data Set**\n",
    "\n",
    "Picture a treasure trove of movie data—genres, languages, budgets, revenues, and more—all neatly packaged in this dataset.\n",
    "\n",
    "**Data Cleaning**\n",
    "\n",
    "First things first, let's tidy up the place:\n",
    "\n",
    "- We're tossing out any twins, no duplicates allowed!\n",
    "- Movies with empty pockets? Not on our watch. We're only interested in those with bucks in their wallets.\n",
    "- Dates are getting a makeover—converting them into a more human-readable format.\n",
    "- Profits? We're all about those. We'll subtract budgets from revenues to find the real money makers.\n",
    "\n",
    "**Our Cleanup Arsenal: Methods and Visualizations**\n",
    "\n",
    "We've got some cool tools up our sleeves for data cleanup:\n",
    "\n",
    "- We're breaking down barriers with binary columns for genres, languages, and production countries.\n",
    "- Ever seen genres duke it out in a bar plot? We have—watch as the genres go head-to-head in our frequency showdown.\n",
    "- Craving numbers? We've got the top 5 most profitable movies and the hottest topics in town with the most talked-about ones, all in bar plot glory.\n",
    "\n",
    "**Missing Data Mission**\n",
    "\n",
    "Guess what? There's no missing data to play detective with—our dataset is a well-behaved one.\n",
    "\n",
    "**Unveiling Data Stories Through Visuals**\n",
    "\n",
    "Hold tight, because we're about to paint some vivid stories:\n",
    "\n",
    "1. **Genres Unleashed**: Ever wondered which genres rule the roost? Our bar plot reveals the genre landscape like never before.\n",
    "\n",
    "2. **The Money Makers**: Top 5 most profitable movies are making their grand entrance, with profits leading the way.\n",
    "\n",
    "3. **Talk of the Town**: Popularity contest, anyone? Our bar plot spills the tea on the 5 most talked-about movies.\n",
    "\n",
    "**Beyond the Silver Screen: Insights and Recommendations**\n",
    "\n",
    "The adventure doesn't stop here. We've got more to uncover:\n",
    "\n",
    "1. **Money Talks**: Let's crack the code on how budget, revenue, and popularity dance together.\n",
    "   \n",
    "2. **Genre Chronicles**: Time to dive into genre evolution across different years and countries.\n",
    "\n",
    "3. **The Audience Verdict**: We're reading between the lines of user reviews with sentiment analysis.\n",
    "\n",
    "4. **Runtime Reveal**: Lights, camera, action—how does runtime impact the bottom line and public buzz?\n",
    "\n",
    "**Final Take**\n",
    "\n",
    "Wrapping it up, this report isn't just about data. It's about the stories hidden in plain sight and the possibilities they hold. The cleanup, tales, and insights all paint a vibrant picture of what's possible when we decode data.\n",
    "\n",
    "**Crafted By:** Eben Rudy Crossney"
   ]
  },
  {
   "cell_type": "code",
   "execution_count": 7,
   "metadata": {},
   "outputs": [
    {
     "name": "stderr",
     "output_type": "stream",
     "text": [
      "C:\\Users\\ebenr\\AppData\\Local\\Temp\\ipykernel_14536\\1117846501.py:15: PerformanceWarning: DataFrame is highly fragmented.  This is usually the result of calling `frame.insert` many times, which has poor performance.  Consider joining all columns at once using pd.concat(axis=1) instead. To get a de-fragmented frame, use `newframe = frame.copy()`\n",
      "  movies_df[f'{column}_{value}'] = data.apply(lambda x: int(value in x))\n",
      "C:\\Users\\ebenr\\AppData\\Local\\Temp\\ipykernel_14536\\1117846501.py:15: PerformanceWarning: DataFrame is highly fragmented.  This is usually the result of calling `frame.insert` many times, which has poor performance.  Consider joining all columns at once using pd.concat(axis=1) instead. To get a de-fragmented frame, use `newframe = frame.copy()`\n",
      "  movies_df[f'{column}_{value}'] = data.apply(lambda x: int(value in x))\n",
      "C:\\Users\\ebenr\\AppData\\Local\\Temp\\ipykernel_14536\\1117846501.py:15: PerformanceWarning: DataFrame is highly fragmented.  This is usually the result of calling `frame.insert` many times, which has poor performance.  Consider joining all columns at once using pd.concat(axis=1) instead. To get a de-fragmented frame, use `newframe = frame.copy()`\n",
      "  movies_df[f'{column}_{value}'] = data.apply(lambda x: int(value in x))\n",
      "C:\\Users\\ebenr\\AppData\\Local\\Temp\\ipykernel_14536\\1117846501.py:15: PerformanceWarning: DataFrame is highly fragmented.  This is usually the result of calling `frame.insert` many times, which has poor performance.  Consider joining all columns at once using pd.concat(axis=1) instead. To get a de-fragmented frame, use `newframe = frame.copy()`\n",
      "  movies_df[f'{column}_{value}'] = data.apply(lambda x: int(value in x))\n",
      "C:\\Users\\ebenr\\AppData\\Local\\Temp\\ipykernel_14536\\1117846501.py:15: PerformanceWarning: DataFrame is highly fragmented.  This is usually the result of calling `frame.insert` many times, which has poor performance.  Consider joining all columns at once using pd.concat(axis=1) instead. To get a de-fragmented frame, use `newframe = frame.copy()`\n",
      "  movies_df[f'{column}_{value}'] = data.apply(lambda x: int(value in x))\n",
      "C:\\Users\\ebenr\\AppData\\Local\\Temp\\ipykernel_14536\\1117846501.py:15: PerformanceWarning: DataFrame is highly fragmented.  This is usually the result of calling `frame.insert` many times, which has poor performance.  Consider joining all columns at once using pd.concat(axis=1) instead. To get a de-fragmented frame, use `newframe = frame.copy()`\n",
      "  movies_df[f'{column}_{value}'] = data.apply(lambda x: int(value in x))\n",
      "C:\\Users\\ebenr\\AppData\\Local\\Temp\\ipykernel_14536\\1117846501.py:15: PerformanceWarning: DataFrame is highly fragmented.  This is usually the result of calling `frame.insert` many times, which has poor performance.  Consider joining all columns at once using pd.concat(axis=1) instead. To get a de-fragmented frame, use `newframe = frame.copy()`\n",
      "  movies_df[f'{column}_{value}'] = data.apply(lambda x: int(value in x))\n",
      "C:\\Users\\ebenr\\AppData\\Local\\Temp\\ipykernel_14536\\1117846501.py:15: PerformanceWarning: DataFrame is highly fragmented.  This is usually the result of calling `frame.insert` many times, which has poor performance.  Consider joining all columns at once using pd.concat(axis=1) instead. To get a de-fragmented frame, use `newframe = frame.copy()`\n",
      "  movies_df[f'{column}_{value}'] = data.apply(lambda x: int(value in x))\n",
      "C:\\Users\\ebenr\\AppData\\Local\\Temp\\ipykernel_14536\\1117846501.py:15: PerformanceWarning: DataFrame is highly fragmented.  This is usually the result of calling `frame.insert` many times, which has poor performance.  Consider joining all columns at once using pd.concat(axis=1) instead. To get a de-fragmented frame, use `newframe = frame.copy()`\n",
      "  movies_df[f'{column}_{value}'] = data.apply(lambda x: int(value in x))\n",
      "C:\\Users\\ebenr\\AppData\\Local\\Temp\\ipykernel_14536\\1117846501.py:15: PerformanceWarning: DataFrame is highly fragmented.  This is usually the result of calling `frame.insert` many times, which has poor performance.  Consider joining all columns at once using pd.concat(axis=1) instead. To get a de-fragmented frame, use `newframe = frame.copy()`\n",
      "  movies_df[f'{column}_{value}'] = data.apply(lambda x: int(value in x))\n",
      "C:\\Users\\ebenr\\AppData\\Local\\Temp\\ipykernel_14536\\1117846501.py:15: PerformanceWarning: DataFrame is highly fragmented.  This is usually the result of calling `frame.insert` many times, which has poor performance.  Consider joining all columns at once using pd.concat(axis=1) instead. To get a de-fragmented frame, use `newframe = frame.copy()`\n",
      "  movies_df[f'{column}_{value}'] = data.apply(lambda x: int(value in x))\n",
      "C:\\Users\\ebenr\\AppData\\Local\\Temp\\ipykernel_14536\\1117846501.py:15: PerformanceWarning: DataFrame is highly fragmented.  This is usually the result of calling `frame.insert` many times, which has poor performance.  Consider joining all columns at once using pd.concat(axis=1) instead. To get a de-fragmented frame, use `newframe = frame.copy()`\n",
      "  movies_df[f'{column}_{value}'] = data.apply(lambda x: int(value in x))\n",
      "C:\\Users\\ebenr\\AppData\\Local\\Temp\\ipykernel_14536\\1117846501.py:15: PerformanceWarning: DataFrame is highly fragmented.  This is usually the result of calling `frame.insert` many times, which has poor performance.  Consider joining all columns at once using pd.concat(axis=1) instead. To get a de-fragmented frame, use `newframe = frame.copy()`\n",
      "  movies_df[f'{column}_{value}'] = data.apply(lambda x: int(value in x))\n",
      "C:\\Users\\ebenr\\AppData\\Local\\Temp\\ipykernel_14536\\1117846501.py:15: PerformanceWarning: DataFrame is highly fragmented.  This is usually the result of calling `frame.insert` many times, which has poor performance.  Consider joining all columns at once using pd.concat(axis=1) instead. To get a de-fragmented frame, use `newframe = frame.copy()`\n",
      "  movies_df[f'{column}_{value}'] = data.apply(lambda x: int(value in x))\n",
      "C:\\Users\\ebenr\\AppData\\Local\\Temp\\ipykernel_14536\\1117846501.py:15: PerformanceWarning: DataFrame is highly fragmented.  This is usually the result of calling `frame.insert` many times, which has poor performance.  Consider joining all columns at once using pd.concat(axis=1) instead. To get a de-fragmented frame, use `newframe = frame.copy()`\n",
      "  movies_df[f'{column}_{value}'] = data.apply(lambda x: int(value in x))\n",
      "C:\\Users\\ebenr\\AppData\\Local\\Temp\\ipykernel_14536\\1117846501.py:15: PerformanceWarning: DataFrame is highly fragmented.  This is usually the result of calling `frame.insert` many times, which has poor performance.  Consider joining all columns at once using pd.concat(axis=1) instead. To get a de-fragmented frame, use `newframe = frame.copy()`\n",
      "  movies_df[f'{column}_{value}'] = data.apply(lambda x: int(value in x))\n",
      "C:\\Users\\ebenr\\AppData\\Local\\Temp\\ipykernel_14536\\1117846501.py:15: PerformanceWarning: DataFrame is highly fragmented.  This is usually the result of calling `frame.insert` many times, which has poor performance.  Consider joining all columns at once using pd.concat(axis=1) instead. To get a de-fragmented frame, use `newframe = frame.copy()`\n",
      "  movies_df[f'{column}_{value}'] = data.apply(lambda x: int(value in x))\n",
      "C:\\Users\\ebenr\\AppData\\Local\\Temp\\ipykernel_14536\\1117846501.py:15: PerformanceWarning: DataFrame is highly fragmented.  This is usually the result of calling `frame.insert` many times, which has poor performance.  Consider joining all columns at once using pd.concat(axis=1) instead. To get a de-fragmented frame, use `newframe = frame.copy()`\n",
      "  movies_df[f'{column}_{value}'] = data.apply(lambda x: int(value in x))\n",
      "C:\\Users\\ebenr\\AppData\\Local\\Temp\\ipykernel_14536\\1117846501.py:15: PerformanceWarning: DataFrame is highly fragmented.  This is usually the result of calling `frame.insert` many times, which has poor performance.  Consider joining all columns at once using pd.concat(axis=1) instead. To get a de-fragmented frame, use `newframe = frame.copy()`\n",
      "  movies_df[f'{column}_{value}'] = data.apply(lambda x: int(value in x))\n",
      "C:\\Users\\ebenr\\AppData\\Local\\Temp\\ipykernel_14536\\1117846501.py:15: PerformanceWarning: DataFrame is highly fragmented.  This is usually the result of calling `frame.insert` many times, which has poor performance.  Consider joining all columns at once using pd.concat(axis=1) instead. To get a de-fragmented frame, use `newframe = frame.copy()`\n",
      "  movies_df[f'{column}_{value}'] = data.apply(lambda x: int(value in x))\n",
      "C:\\Users\\ebenr\\AppData\\Local\\Temp\\ipykernel_14536\\1117846501.py:15: PerformanceWarning: DataFrame is highly fragmented.  This is usually the result of calling `frame.insert` many times, which has poor performance.  Consider joining all columns at once using pd.concat(axis=1) instead. To get a de-fragmented frame, use `newframe = frame.copy()`\n",
      "  movies_df[f'{column}_{value}'] = data.apply(lambda x: int(value in x))\n",
      "C:\\Users\\ebenr\\AppData\\Local\\Temp\\ipykernel_14536\\1117846501.py:15: PerformanceWarning: DataFrame is highly fragmented.  This is usually the result of calling `frame.insert` many times, which has poor performance.  Consider joining all columns at once using pd.concat(axis=1) instead. To get a de-fragmented frame, use `newframe = frame.copy()`\n",
      "  movies_df[f'{column}_{value}'] = data.apply(lambda x: int(value in x))\n",
      "C:\\Users\\ebenr\\AppData\\Local\\Temp\\ipykernel_14536\\1117846501.py:15: PerformanceWarning: DataFrame is highly fragmented.  This is usually the result of calling `frame.insert` many times, which has poor performance.  Consider joining all columns at once using pd.concat(axis=1) instead. To get a de-fragmented frame, use `newframe = frame.copy()`\n",
      "  movies_df[f'{column}_{value}'] = data.apply(lambda x: int(value in x))\n",
      "C:\\Users\\ebenr\\AppData\\Local\\Temp\\ipykernel_14536\\1117846501.py:15: PerformanceWarning: DataFrame is highly fragmented.  This is usually the result of calling `frame.insert` many times, which has poor performance.  Consider joining all columns at once using pd.concat(axis=1) instead. To get a de-fragmented frame, use `newframe = frame.copy()`\n",
      "  movies_df[f'{column}_{value}'] = data.apply(lambda x: int(value in x))\n",
      "C:\\Users\\ebenr\\AppData\\Local\\Temp\\ipykernel_14536\\1117846501.py:15: PerformanceWarning: DataFrame is highly fragmented.  This is usually the result of calling `frame.insert` many times, which has poor performance.  Consider joining all columns at once using pd.concat(axis=1) instead. To get a de-fragmented frame, use `newframe = frame.copy()`\n",
      "  movies_df[f'{column}_{value}'] = data.apply(lambda x: int(value in x))\n",
      "C:\\Users\\ebenr\\AppData\\Local\\Temp\\ipykernel_14536\\1117846501.py:15: PerformanceWarning: DataFrame is highly fragmented.  This is usually the result of calling `frame.insert` many times, which has poor performance.  Consider joining all columns at once using pd.concat(axis=1) instead. To get a de-fragmented frame, use `newframe = frame.copy()`\n",
      "  movies_df[f'{column}_{value}'] = data.apply(lambda x: int(value in x))\n",
      "C:\\Users\\ebenr\\AppData\\Local\\Temp\\ipykernel_14536\\1117846501.py:15: PerformanceWarning: DataFrame is highly fragmented.  This is usually the result of calling `frame.insert` many times, which has poor performance.  Consider joining all columns at once using pd.concat(axis=1) instead. To get a de-fragmented frame, use `newframe = frame.copy()`\n",
      "  movies_df[f'{column}_{value}'] = data.apply(lambda x: int(value in x))\n",
      "C:\\Users\\ebenr\\AppData\\Local\\Temp\\ipykernel_14536\\1117846501.py:15: PerformanceWarning: DataFrame is highly fragmented.  This is usually the result of calling `frame.insert` many times, which has poor performance.  Consider joining all columns at once using pd.concat(axis=1) instead. To get a de-fragmented frame, use `newframe = frame.copy()`\n",
      "  movies_df[f'{column}_{value}'] = data.apply(lambda x: int(value in x))\n",
      "C:\\Users\\ebenr\\AppData\\Local\\Temp\\ipykernel_14536\\1117846501.py:15: PerformanceWarning: DataFrame is highly fragmented.  This is usually the result of calling `frame.insert` many times, which has poor performance.  Consider joining all columns at once using pd.concat(axis=1) instead. To get a de-fragmented frame, use `newframe = frame.copy()`\n",
      "  movies_df[f'{column}_{value}'] = data.apply(lambda x: int(value in x))\n",
      "C:\\Users\\ebenr\\AppData\\Local\\Temp\\ipykernel_14536\\1117846501.py:15: PerformanceWarning: DataFrame is highly fragmented.  This is usually the result of calling `frame.insert` many times, which has poor performance.  Consider joining all columns at once using pd.concat(axis=1) instead. To get a de-fragmented frame, use `newframe = frame.copy()`\n",
      "  movies_df[f'{column}_{value}'] = data.apply(lambda x: int(value in x))\n",
      "C:\\Users\\ebenr\\AppData\\Local\\Temp\\ipykernel_14536\\1117846501.py:15: PerformanceWarning: DataFrame is highly fragmented.  This is usually the result of calling `frame.insert` many times, which has poor performance.  Consider joining all columns at once using pd.concat(axis=1) instead. To get a de-fragmented frame, use `newframe = frame.copy()`\n",
      "  movies_df[f'{column}_{value}'] = data.apply(lambda x: int(value in x))\n",
      "C:\\Users\\ebenr\\AppData\\Local\\Temp\\ipykernel_14536\\1117846501.py:15: PerformanceWarning: DataFrame is highly fragmented.  This is usually the result of calling `frame.insert` many times, which has poor performance.  Consider joining all columns at once using pd.concat(axis=1) instead. To get a de-fragmented frame, use `newframe = frame.copy()`\n",
      "  movies_df[f'{column}_{value}'] = data.apply(lambda x: int(value in x))\n",
      "C:\\Users\\ebenr\\AppData\\Local\\Temp\\ipykernel_14536\\1117846501.py:15: PerformanceWarning: DataFrame is highly fragmented.  This is usually the result of calling `frame.insert` many times, which has poor performance.  Consider joining all columns at once using pd.concat(axis=1) instead. To get a de-fragmented frame, use `newframe = frame.copy()`\n",
      "  movies_df[f'{column}_{value}'] = data.apply(lambda x: int(value in x))\n",
      "C:\\Users\\ebenr\\AppData\\Local\\Temp\\ipykernel_14536\\1117846501.py:15: PerformanceWarning: DataFrame is highly fragmented.  This is usually the result of calling `frame.insert` many times, which has poor performance.  Consider joining all columns at once using pd.concat(axis=1) instead. To get a de-fragmented frame, use `newframe = frame.copy()`\n",
      "  movies_df[f'{column}_{value}'] = data.apply(lambda x: int(value in x))\n",
      "C:\\Users\\ebenr\\AppData\\Local\\Temp\\ipykernel_14536\\1117846501.py:15: PerformanceWarning: DataFrame is highly fragmented.  This is usually the result of calling `frame.insert` many times, which has poor performance.  Consider joining all columns at once using pd.concat(axis=1) instead. To get a de-fragmented frame, use `newframe = frame.copy()`\n",
      "  movies_df[f'{column}_{value}'] = data.apply(lambda x: int(value in x))\n",
      "C:\\Users\\ebenr\\AppData\\Local\\Temp\\ipykernel_14536\\1117846501.py:15: PerformanceWarning: DataFrame is highly fragmented.  This is usually the result of calling `frame.insert` many times, which has poor performance.  Consider joining all columns at once using pd.concat(axis=1) instead. To get a de-fragmented frame, use `newframe = frame.copy()`\n",
      "  movies_df[f'{column}_{value}'] = data.apply(lambda x: int(value in x))\n",
      "C:\\Users\\ebenr\\AppData\\Local\\Temp\\ipykernel_14536\\1117846501.py:15: PerformanceWarning: DataFrame is highly fragmented.  This is usually the result of calling `frame.insert` many times, which has poor performance.  Consider joining all columns at once using pd.concat(axis=1) instead. To get a de-fragmented frame, use `newframe = frame.copy()`\n",
      "  movies_df[f'{column}_{value}'] = data.apply(lambda x: int(value in x))\n",
      "C:\\Users\\ebenr\\AppData\\Local\\Temp\\ipykernel_14536\\1117846501.py:15: PerformanceWarning: DataFrame is highly fragmented.  This is usually the result of calling `frame.insert` many times, which has poor performance.  Consider joining all columns at once using pd.concat(axis=1) instead. To get a de-fragmented frame, use `newframe = frame.copy()`\n",
      "  movies_df[f'{column}_{value}'] = data.apply(lambda x: int(value in x))\n",
      "C:\\Users\\ebenr\\AppData\\Local\\Temp\\ipykernel_14536\\1117846501.py:15: PerformanceWarning: DataFrame is highly fragmented.  This is usually the result of calling `frame.insert` many times, which has poor performance.  Consider joining all columns at once using pd.concat(axis=1) instead. To get a de-fragmented frame, use `newframe = frame.copy()`\n",
      "  movies_df[f'{column}_{value}'] = data.apply(lambda x: int(value in x))\n",
      "C:\\Users\\ebenr\\AppData\\Local\\Temp\\ipykernel_14536\\1117846501.py:15: PerformanceWarning: DataFrame is highly fragmented.  This is usually the result of calling `frame.insert` many times, which has poor performance.  Consider joining all columns at once using pd.concat(axis=1) instead. To get a de-fragmented frame, use `newframe = frame.copy()`\n",
      "  movies_df[f'{column}_{value}'] = data.apply(lambda x: int(value in x))\n",
      "C:\\Users\\ebenr\\AppData\\Local\\Temp\\ipykernel_14536\\1117846501.py:15: PerformanceWarning: DataFrame is highly fragmented.  This is usually the result of calling `frame.insert` many times, which has poor performance.  Consider joining all columns at once using pd.concat(axis=1) instead. To get a de-fragmented frame, use `newframe = frame.copy()`\n",
      "  movies_df[f'{column}_{value}'] = data.apply(lambda x: int(value in x))\n",
      "C:\\Users\\ebenr\\AppData\\Local\\Temp\\ipykernel_14536\\1117846501.py:15: PerformanceWarning: DataFrame is highly fragmented.  This is usually the result of calling `frame.insert` many times, which has poor performance.  Consider joining all columns at once using pd.concat(axis=1) instead. To get a de-fragmented frame, use `newframe = frame.copy()`\n",
      "  movies_df[f'{column}_{value}'] = data.apply(lambda x: int(value in x))\n",
      "C:\\Users\\ebenr\\AppData\\Local\\Temp\\ipykernel_14536\\1117846501.py:15: PerformanceWarning: DataFrame is highly fragmented.  This is usually the result of calling `frame.insert` many times, which has poor performance.  Consider joining all columns at once using pd.concat(axis=1) instead. To get a de-fragmented frame, use `newframe = frame.copy()`\n",
      "  movies_df[f'{column}_{value}'] = data.apply(lambda x: int(value in x))\n",
      "C:\\Users\\ebenr\\AppData\\Local\\Temp\\ipykernel_14536\\1117846501.py:15: PerformanceWarning: DataFrame is highly fragmented.  This is usually the result of calling `frame.insert` many times, which has poor performance.  Consider joining all columns at once using pd.concat(axis=1) instead. To get a de-fragmented frame, use `newframe = frame.copy()`\n",
      "  movies_df[f'{column}_{value}'] = data.apply(lambda x: int(value in x))\n",
      "C:\\Users\\ebenr\\AppData\\Local\\Temp\\ipykernel_14536\\1117846501.py:15: PerformanceWarning: DataFrame is highly fragmented.  This is usually the result of calling `frame.insert` many times, which has poor performance.  Consider joining all columns at once using pd.concat(axis=1) instead. To get a de-fragmented frame, use `newframe = frame.copy()`\n",
      "  movies_df[f'{column}_{value}'] = data.apply(lambda x: int(value in x))\n",
      "C:\\Users\\ebenr\\AppData\\Local\\Temp\\ipykernel_14536\\1117846501.py:15: PerformanceWarning: DataFrame is highly fragmented.  This is usually the result of calling `frame.insert` many times, which has poor performance.  Consider joining all columns at once using pd.concat(axis=1) instead. To get a de-fragmented frame, use `newframe = frame.copy()`\n",
      "  movies_df[f'{column}_{value}'] = data.apply(lambda x: int(value in x))\n",
      "C:\\Users\\ebenr\\AppData\\Local\\Temp\\ipykernel_14536\\1117846501.py:15: PerformanceWarning: DataFrame is highly fragmented.  This is usually the result of calling `frame.insert` many times, which has poor performance.  Consider joining all columns at once using pd.concat(axis=1) instead. To get a de-fragmented frame, use `newframe = frame.copy()`\n",
      "  movies_df[f'{column}_{value}'] = data.apply(lambda x: int(value in x))\n",
      "C:\\Users\\ebenr\\AppData\\Local\\Temp\\ipykernel_14536\\1117846501.py:15: PerformanceWarning: DataFrame is highly fragmented.  This is usually the result of calling `frame.insert` many times, which has poor performance.  Consider joining all columns at once using pd.concat(axis=1) instead. To get a de-fragmented frame, use `newframe = frame.copy()`\n",
      "  movies_df[f'{column}_{value}'] = data.apply(lambda x: int(value in x))\n",
      "C:\\Users\\ebenr\\AppData\\Local\\Temp\\ipykernel_14536\\1117846501.py:15: PerformanceWarning: DataFrame is highly fragmented.  This is usually the result of calling `frame.insert` many times, which has poor performance.  Consider joining all columns at once using pd.concat(axis=1) instead. To get a de-fragmented frame, use `newframe = frame.copy()`\n",
      "  movies_df[f'{column}_{value}'] = data.apply(lambda x: int(value in x))\n",
      "C:\\Users\\ebenr\\AppData\\Local\\Temp\\ipykernel_14536\\1117846501.py:15: PerformanceWarning: DataFrame is highly fragmented.  This is usually the result of calling `frame.insert` many times, which has poor performance.  Consider joining all columns at once using pd.concat(axis=1) instead. To get a de-fragmented frame, use `newframe = frame.copy()`\n",
      "  movies_df[f'{column}_{value}'] = data.apply(lambda x: int(value in x))\n",
      "C:\\Users\\ebenr\\AppData\\Local\\Temp\\ipykernel_14536\\1117846501.py:15: PerformanceWarning: DataFrame is highly fragmented.  This is usually the result of calling `frame.insert` many times, which has poor performance.  Consider joining all columns at once using pd.concat(axis=1) instead. To get a de-fragmented frame, use `newframe = frame.copy()`\n",
      "  movies_df[f'{column}_{value}'] = data.apply(lambda x: int(value in x))\n",
      "C:\\Users\\ebenr\\AppData\\Local\\Temp\\ipykernel_14536\\1117846501.py:15: PerformanceWarning: DataFrame is highly fragmented.  This is usually the result of calling `frame.insert` many times, which has poor performance.  Consider joining all columns at once using pd.concat(axis=1) instead. To get a de-fragmented frame, use `newframe = frame.copy()`\n",
      "  movies_df[f'{column}_{value}'] = data.apply(lambda x: int(value in x))\n",
      "C:\\Users\\ebenr\\AppData\\Local\\Temp\\ipykernel_14536\\1117846501.py:15: PerformanceWarning: DataFrame is highly fragmented.  This is usually the result of calling `frame.insert` many times, which has poor performance.  Consider joining all columns at once using pd.concat(axis=1) instead. To get a de-fragmented frame, use `newframe = frame.copy()`\n",
      "  movies_df[f'{column}_{value}'] = data.apply(lambda x: int(value in x))\n",
      "C:\\Users\\ebenr\\AppData\\Local\\Temp\\ipykernel_14536\\1117846501.py:15: PerformanceWarning: DataFrame is highly fragmented.  This is usually the result of calling `frame.insert` many times, which has poor performance.  Consider joining all columns at once using pd.concat(axis=1) instead. To get a de-fragmented frame, use `newframe = frame.copy()`\n",
      "  movies_df[f'{column}_{value}'] = data.apply(lambda x: int(value in x))\n",
      "C:\\Users\\ebenr\\AppData\\Local\\Temp\\ipykernel_14536\\1117846501.py:15: PerformanceWarning: DataFrame is highly fragmented.  This is usually the result of calling `frame.insert` many times, which has poor performance.  Consider joining all columns at once using pd.concat(axis=1) instead. To get a de-fragmented frame, use `newframe = frame.copy()`\n",
      "  movies_df[f'{column}_{value}'] = data.apply(lambda x: int(value in x))\n",
      "C:\\Users\\ebenr\\AppData\\Local\\Temp\\ipykernel_14536\\1117846501.py:15: PerformanceWarning: DataFrame is highly fragmented.  This is usually the result of calling `frame.insert` many times, which has poor performance.  Consider joining all columns at once using pd.concat(axis=1) instead. To get a de-fragmented frame, use `newframe = frame.copy()`\n",
      "  movies_df[f'{column}_{value}'] = data.apply(lambda x: int(value in x))\n",
      "C:\\Users\\ebenr\\AppData\\Local\\Temp\\ipykernel_14536\\1117846501.py:15: PerformanceWarning: DataFrame is highly fragmented.  This is usually the result of calling `frame.insert` many times, which has poor performance.  Consider joining all columns at once using pd.concat(axis=1) instead. To get a de-fragmented frame, use `newframe = frame.copy()`\n",
      "  movies_df[f'{column}_{value}'] = data.apply(lambda x: int(value in x))\n",
      "C:\\Users\\ebenr\\AppData\\Local\\Temp\\ipykernel_14536\\1117846501.py:15: PerformanceWarning: DataFrame is highly fragmented.  This is usually the result of calling `frame.insert` many times, which has poor performance.  Consider joining all columns at once using pd.concat(axis=1) instead. To get a de-fragmented frame, use `newframe = frame.copy()`\n",
      "  movies_df[f'{column}_{value}'] = data.apply(lambda x: int(value in x))\n",
      "C:\\Users\\ebenr\\AppData\\Local\\Temp\\ipykernel_14536\\1117846501.py:15: PerformanceWarning: DataFrame is highly fragmented.  This is usually the result of calling `frame.insert` many times, which has poor performance.  Consider joining all columns at once using pd.concat(axis=1) instead. To get a de-fragmented frame, use `newframe = frame.copy()`\n",
      "  movies_df[f'{column}_{value}'] = data.apply(lambda x: int(value in x))\n",
      "C:\\Users\\ebenr\\AppData\\Local\\Temp\\ipykernel_14536\\1117846501.py:15: PerformanceWarning: DataFrame is highly fragmented.  This is usually the result of calling `frame.insert` many times, which has poor performance.  Consider joining all columns at once using pd.concat(axis=1) instead. To get a de-fragmented frame, use `newframe = frame.copy()`\n",
      "  movies_df[f'{column}_{value}'] = data.apply(lambda x: int(value in x))\n",
      "C:\\Users\\ebenr\\AppData\\Local\\Temp\\ipykernel_14536\\1117846501.py:15: PerformanceWarning: DataFrame is highly fragmented.  This is usually the result of calling `frame.insert` many times, which has poor performance.  Consider joining all columns at once using pd.concat(axis=1) instead. To get a de-fragmented frame, use `newframe = frame.copy()`\n",
      "  movies_df[f'{column}_{value}'] = data.apply(lambda x: int(value in x))\n",
      "C:\\Users\\ebenr\\AppData\\Local\\Temp\\ipykernel_14536\\1117846501.py:15: PerformanceWarning: DataFrame is highly fragmented.  This is usually the result of calling `frame.insert` many times, which has poor performance.  Consider joining all columns at once using pd.concat(axis=1) instead. To get a de-fragmented frame, use `newframe = frame.copy()`\n",
      "  movies_df[f'{column}_{value}'] = data.apply(lambda x: int(value in x))\n",
      "C:\\Users\\ebenr\\AppData\\Local\\Temp\\ipykernel_14536\\1117846501.py:15: PerformanceWarning: DataFrame is highly fragmented.  This is usually the result of calling `frame.insert` many times, which has poor performance.  Consider joining all columns at once using pd.concat(axis=1) instead. To get a de-fragmented frame, use `newframe = frame.copy()`\n",
      "  movies_df[f'{column}_{value}'] = data.apply(lambda x: int(value in x))\n",
      "C:\\Users\\ebenr\\AppData\\Local\\Temp\\ipykernel_14536\\1117846501.py:15: PerformanceWarning: DataFrame is highly fragmented.  This is usually the result of calling `frame.insert` many times, which has poor performance.  Consider joining all columns at once using pd.concat(axis=1) instead. To get a de-fragmented frame, use `newframe = frame.copy()`\n",
      "  movies_df[f'{column}_{value}'] = data.apply(lambda x: int(value in x))\n",
      "C:\\Users\\ebenr\\AppData\\Local\\Temp\\ipykernel_14536\\1117846501.py:15: PerformanceWarning: DataFrame is highly fragmented.  This is usually the result of calling `frame.insert` many times, which has poor performance.  Consider joining all columns at once using pd.concat(axis=1) instead. To get a de-fragmented frame, use `newframe = frame.copy()`\n",
      "  movies_df[f'{column}_{value}'] = data.apply(lambda x: int(value in x))\n",
      "C:\\Users\\ebenr\\AppData\\Local\\Temp\\ipykernel_14536\\1117846501.py:15: PerformanceWarning: DataFrame is highly fragmented.  This is usually the result of calling `frame.insert` many times, which has poor performance.  Consider joining all columns at once using pd.concat(axis=1) instead. To get a de-fragmented frame, use `newframe = frame.copy()`\n",
      "  movies_df[f'{column}_{value}'] = data.apply(lambda x: int(value in x))\n",
      "C:\\Users\\ebenr\\AppData\\Local\\Temp\\ipykernel_14536\\1117846501.py:15: PerformanceWarning: DataFrame is highly fragmented.  This is usually the result of calling `frame.insert` many times, which has poor performance.  Consider joining all columns at once using pd.concat(axis=1) instead. To get a de-fragmented frame, use `newframe = frame.copy()`\n",
      "  movies_df[f'{column}_{value}'] = data.apply(lambda x: int(value in x))\n",
      "C:\\Users\\ebenr\\AppData\\Local\\Temp\\ipykernel_14536\\1117846501.py:15: PerformanceWarning: DataFrame is highly fragmented.  This is usually the result of calling `frame.insert` many times, which has poor performance.  Consider joining all columns at once using pd.concat(axis=1) instead. To get a de-fragmented frame, use `newframe = frame.copy()`\n",
      "  movies_df[f'{column}_{value}'] = data.apply(lambda x: int(value in x))\n",
      "C:\\Users\\ebenr\\AppData\\Local\\Temp\\ipykernel_14536\\1117846501.py:15: PerformanceWarning: DataFrame is highly fragmented.  This is usually the result of calling `frame.insert` many times, which has poor performance.  Consider joining all columns at once using pd.concat(axis=1) instead. To get a de-fragmented frame, use `newframe = frame.copy()`\n",
      "  movies_df[f'{column}_{value}'] = data.apply(lambda x: int(value in x))\n",
      "C:\\Users\\ebenr\\AppData\\Local\\Temp\\ipykernel_14536\\1117846501.py:15: PerformanceWarning: DataFrame is highly fragmented.  This is usually the result of calling `frame.insert` many times, which has poor performance.  Consider joining all columns at once using pd.concat(axis=1) instead. To get a de-fragmented frame, use `newframe = frame.copy()`\n",
      "  movies_df[f'{column}_{value}'] = data.apply(lambda x: int(value in x))\n",
      "C:\\Users\\ebenr\\AppData\\Local\\Temp\\ipykernel_14536\\1117846501.py:15: PerformanceWarning: DataFrame is highly fragmented.  This is usually the result of calling `frame.insert` many times, which has poor performance.  Consider joining all columns at once using pd.concat(axis=1) instead. To get a de-fragmented frame, use `newframe = frame.copy()`\n",
      "  movies_df[f'{column}_{value}'] = data.apply(lambda x: int(value in x))\n",
      "C:\\Users\\ebenr\\AppData\\Local\\Temp\\ipykernel_14536\\1117846501.py:15: PerformanceWarning: DataFrame is highly fragmented.  This is usually the result of calling `frame.insert` many times, which has poor performance.  Consider joining all columns at once using pd.concat(axis=1) instead. To get a de-fragmented frame, use `newframe = frame.copy()`\n",
      "  movies_df[f'{column}_{value}'] = data.apply(lambda x: int(value in x))\n",
      "C:\\Users\\ebenr\\AppData\\Local\\Temp\\ipykernel_14536\\1117846501.py:15: PerformanceWarning: DataFrame is highly fragmented.  This is usually the result of calling `frame.insert` many times, which has poor performance.  Consider joining all columns at once using pd.concat(axis=1) instead. To get a de-fragmented frame, use `newframe = frame.copy()`\n",
      "  movies_df[f'{column}_{value}'] = data.apply(lambda x: int(value in x))\n"
     ]
    },
    {
     "data": {
      "image/png": "[encoded data removed]",
      "text/plain": [
       "<Figure size 1200x600 with 1 Axes>"
      ]
     },
     "metadata": {},
     "output_type": "display_data"
    },
    {
     "data": {
      "image/png": "[encoded data removed]",
      "text/plain": [
       "<Figure size 1000x600 with 1 Axes>"
      ]
     },
     "metadata": {},
     "output_type": "display_data"
    },
    {
     "data": {
      "image/png": "[encoded data removed]",
      "text/plain": [
       "<Figure size 1000x600 with 1 Axes>"
      ]
     },
     "metadata": {},
     "output_type": "display_data"
    },
    {
     "name": "stdout",
     "output_type": "stream",
     "text": [
      "Top 5 Most Profitable Movies:\n",
      "             title      profit\n",
      "0           Avatar  2550965087\n",
      "25         Titanic  1645034188\n",
      "28  Jurassic World  1363528810\n",
      "44       Furious 7  1316249360\n",
      "16    The Avengers  1299557910\n",
      "\n",
      "Top 5 Most Talked About Movies:\n",
      "                       title  popularity\n",
      "546                  Minions  875.581305\n",
      "95              Interstellar  724.247784\n",
      "788                 Deadpool  514.569956\n",
      "94   Guardians of the Galaxy  481.098624\n",
      "127       Mad Max: Fury Road  434.278564\n",
      "\n",
      "Data Storytelling:\n",
      "1. Parsed JSON columns to create binary genre, spoken language, and production country columns.\n",
      "2. Cleaned data by removing duplicate rows and entries with zero budget/revenue.\n",
      "3. Converted release_date to datetime and extracted release_year for temporal analysis.\n",
      "4. Calculated profit as the difference between revenue and budget for each movie.\n",
      "5. Identified top 5 most profitable and most talked-about movies for insights.\n",
      "6. Visualized genre frequency using a bar plot to understand genre distribution.\n",
      "\n",
      "Additional Insights and Recommendations:\n",
      "1. Explore correlations between 'budget', 'revenue', and 'popularity'.\n",
      "2. Analyze genre trends over the years and across countries.\n",
      "3. Perform sentiment analysis on user reviews for audience feedback.\n",
      "4. Investigate runtime's impact on profitability and popularity.\n"
     ]
    }
   ],
   "source": [
    "import pandas as pd\n",
    "import numpy as np\n",
    "import seaborn as sns\n",
    "import matplotlib.pyplot as plt\n",
    "%matplotlib inline\n",
    "\n",
    "# Load the movie dataset\n",
    "movies_df = pd.read_csv('movies.csv')\n",
    "\n",
    "# Parse JSON columns and create new binary columns\n",
    "json_columns = ['genres', 'spoken_languages', 'production_countries']\n",
    "for column in json_columns:\n",
    "    data = movies_df[column].apply(lambda x: [entry['name'] for entry in eval(x)])\n",
    "    for value in np.unique(np.concatenate(data)):\n",
    "        movies_df[f'{column}_{value}'] = data.apply(lambda x: int(value in x))\n",
    "\n",
    "# Data Cleansing\n",
    "movies_df.drop_duplicates(inplace=True)\n",
    "movies_df = movies_df[(movies_df['budget'] != 0) & (movies_df['revenue'] != 0)]\n",
    "\n",
    "# Convert release_date to datetime and extract release_year\n",
    "movies_df['release_date'] = pd.to_datetime(movies_df['release_date'])\n",
    "movies_df['release_year'] = movies_df['release_date'].dt.year\n",
    "\n",
    "# Calculate profit and find top profitable movies\n",
    "movies_df['profit'] = movies_df['revenue'] - movies_df['budget']\n",
    "top_profitable_movies = movies_df.nlargest(5, 'profit')\n",
    "\n",
    "# Find most talked about movies based on popularity\n",
    "most_talked_about_movies = movies_df.nlargest(5, 'popularity')\n",
    "\n",
    "# Bar plot for genre frequency\n",
    "genre_columns = [col for col in movies_df.columns if col.startswith('genres_')]\n",
    "genre_counts = movies_df[genre_columns].sum().sort_values(ascending=False)\n",
    "\n",
    "# Visualize genre frequency using a bar plot\n",
    "plt.figure(figsize=(12, 6))\n",
    "sns.barplot(x=genre_counts.index, y=genre_counts.values)\n",
    "plt.xticks(rotation=45)\n",
    "plt.xlabel('Genres')\n",
    "plt.ylabel('Number of Movies')\n",
    "plt.title('Frequency of Movies in Each Genre')\n",
    "plt.show()\n",
    "\n",
    "# Bar plot for the top 5 most profitable movies\n",
    "plt.figure(figsize=(10, 6))\n",
    "sns.barplot(x='title', y='profit', data=top_profitable_movies)\n",
    "plt.xticks(rotation=45)\n",
    "plt.xlabel('Movies')\n",
    "plt.ylabel('Profit')\n",
    "plt.title('Top 5 Most Profitable Movies')\n",
    "plt.show()\n",
    "\n",
    "# Bar plot for the top 5 most talked-about movies\n",
    "plt.figure(figsize=(10, 6))\n",
    "sns.barplot(x='title', y='popularity', data=most_talked_about_movies)\n",
    "plt.xticks(rotation=45)\n",
    "plt.xlabel('Movies')\n",
    "plt.ylabel('Popularity')\n",
    "plt.title('Top 5 Most Talked About Movies')\n",
    "plt.show()\n",
    "\n",
    "# Display results\n",
    "print(\"Top 5 Most Profitable Movies:\")\n",
    "print(top_profitable_movies[['title', 'profit']])\n",
    "print(\"\\nTop 5 Most Talked About Movies:\")\n",
    "print(most_talked_about_movies[['title', 'popularity']])\n",
    "\n",
    "# Data Storytelling and Recommendations\n",
    "print(\"\\nData Storytelling:\")\n",
    "print(\"1. Parsed JSON columns to create binary genre, spoken language, and production country columns.\")\n",
    "print(\"2. Cleaned data by removing duplicate rows and entries with zero budget/revenue.\")\n",
    "print(\"3. Converted release_date to datetime and extracted release_year for temporal analysis.\")\n",
    "print(\"4. Calculated profit as the difference between revenue and budget for each movie.\")\n",
    "print(\"5. Identified top 5 most profitable and most talked-about movies for insights.\")\n",
    "print(\"6. Visualized genre frequency using a bar plot to understand genre distribution.\")\n",
    "# ... (Rest of your storytelling)\n",
    "\n",
    "print(\"\\nAdditional Insights and Recommendations:\")\n",
    "print(\"1. Explore correlations between 'budget', 'revenue', and 'popularity'.\")\n",
    "print(\"2. Analyze genre trends over the years and across countries.\")\n",
    "print(\"3. Perform sentiment analysis on user reviews for audience feedback.\")\n",
    "print(\"4. Investigate runtime's impact on profitability and popularity.\")\n",
    "# ... (Rest of your recommendations)\n",
    "\n",
    "\n",
    "# Bar plot for the top 5 most profitable movies\n",
    "plt.figure(figsize=(10, 6))\n",
    "sns.barplot(x='title', y='profit', data=top_profitable_movies)\n",
    "plt.xticks(rotation=45)\n",
    "plt.xlabel('Movies')\n",
    "plt.ylabel('Profit')\n",
    "plt.title('Top 5 Most Profitable Movies')\n",
    "plt.show()\n",
    "\n",
    "# Bar plot for the top 5 most talked-about movies\n",
    "plt.figure(figsize=(10, 6))\n",
    "sns.barplot(x='title', y='popularity', data=most_talked_about_movies)\n",
    "plt.xticks(rotation=45)\n",
    "plt.xlabel('Movies')\n",
    "plt.ylabel('Popularity')\n",
    "plt.title('Top 5 Most Talked About Movies')\n",
    "plt.show()\n",
    "\n",
    "\n"
   ]
  }
 ],
 "metadata": {
  "colab": {
   "provenance": []
  },
  "kernelspec": {
   "display_name": "Python 3 (ipykernel)",
   "language": "python",
   "name": "python3"
  },
  "language_info": {
   "codemirror_mode": {
    "name": "ipython",
    "version": 3
   },
   "file_extension": ".py",
   "mimetype": "text/x-python",
   "name": "python",
   "nbconvert_exporter": "python",
   "pygments_lexer": "ipython3",
   "version": "3.11.3"
  },
  "vscode": {
   "interpreter": {
    "hash": "1904059d3876957b542b45423f2a26c6c4608f5e11cc75420e543fa77f94b066"
   }
  }
 },
 "nbformat": 4,
 "nbformat_minor": 1
}
