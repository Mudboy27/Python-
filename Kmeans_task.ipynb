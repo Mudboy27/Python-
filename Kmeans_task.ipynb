{
 "cells": [
  {
   "cell_type": "markdown",
   "metadata": {
    "id": "ph5e-tM7cQ_f"
   },
   "source": [
    "## Categorising countries"
   ]
  },
  {
   "cell_type": "markdown",
   "metadata": {
    "id": "gPpmFsHAcQ_k"
   },
   "source": [
    "### Data Source\n",
    "\n",
    "The data used in this task was orginally sourced from Help.NGO. This international non-governmental organisation specialises in emergency response, preparedness, and risk mitigation.  \n",
    "\n",
    "### Dataset Attributes\n",
    "- country: name of the country\n",
    "- child_mort: death of children under 5 years of age per 1000 live births\n",
    "- exports: exports of goods and services per capita. Given as a percentage of the GDP per capita\n",
    "- health: total health spending per capita. Given as a percentage of GDP per capita\n",
    "- imports: imports of goods and services per capita. Given as a percentage of the GDP per capita\n",
    "- income: net income per person\n",
    "- inflation: the measurement of the annual growth rate of the Total GDP\n",
    "- life_expec: the average number of years a new born child would live if the current mortality patterns remain the same\n",
    "- total_fer: the number of children that would be born to each woman if the current age-fertility rates remains the same\n",
    "- gdpp: the GDP per capita. Calculated as the Total GDP divided by the total population."
   ]
  },
  {
   "cell_type": "markdown",
   "metadata": {
    "id": "eA1iBUH0fM_Q"
   },
   "source": [
    "## Objective  \n",
    "To group countries using socio-economic and health factors to determine the development status of the country."
   ]
  },
  {
   "cell_type": "code",
   "execution_count": null,
   "metadata": {
    "id": "eoeyIWSYcQ_l"
   },
   "outputs": [],
   "source": [
    "# Import libraries\n",
    "import numpy as np\n",
    "import pandas as pd\n",
    "\n",
    "import warnings\n",
    "warnings.filterwarnings(action='ignore', category=FutureWarning)\n",
    "import os\n",
    "\n",
    "import matplotlib.pyplot as plt\n",
    "import seaborn as sns\n",
    "\n",
    "from sklearn import metrics\n",
    "from sklearn.cluster import KMeans\n",
    "from sklearn.metrics import silhouette_score\n",
    "from sklearn.preprocessing import MinMaxScaler"
   ]
  },
  {
   "cell_type": "code",
   "execution_count": null,
   "metadata": {
    "id": "TuuGBuqGcQ_n"
   },
   "outputs": [],
   "source": [
    "# Random state seed\n",
    "rseed = 42"
   ]
  },
  {
   "cell_type": "markdown",
   "metadata": {
    "id": "4JLIOpNYcQ_n"
   },
   "source": [
    "## Load and explore data"
   ]
  },
  {
   "cell_type": "code",
   "execution_count": null,
   "metadata": {
    "id": "gbyZWRxCcQ_o"
   },
   "outputs": [],
   "source": [
    "# Import the dataset"
   ]
  },
  {
   "cell_type": "code",
   "execution_count": null,
   "metadata": {
    "id": "PbbQoB9KcQ_o"
   },
   "outputs": [],
   "source": [
    "# Check the shape"
   ]
  },
  {
   "cell_type": "code",
   "execution_count": null,
   "metadata": {
    "id": "0kw-eMqPcQ_o"
   },
   "outputs": [],
   "source": [
    "# Check datatypes & counts"
   ]
  },
  {
   "cell_type": "code",
   "execution_count": null,
   "metadata": {
    "id": "wqLZhicicQ_p"
   },
   "outputs": [],
   "source": [
    "# Get descriptive statistics"
   ]
  },
  {
   "cell_type": "code",
   "execution_count": null,
   "metadata": {
    "id": "7uaJjeWwcQ_p"
   },
   "outputs": [],
   "source": [
    "# Identify any missing data"
   ]
  },
  {
   "cell_type": "markdown",
   "metadata": {
    "id": "lPSnSeh9cQ_q"
   },
   "source": [
    "## Preprocessing and Feature Selection"
   ]
  },
  {
   "cell_type": "code",
   "execution_count": null,
   "metadata": {
    "id": "6CP73RMXcQ_q"
   },
   "outputs": [],
   "source": [
    "# Drop any non-numeric features (columns)"
   ]
  },
  {
   "cell_type": "code",
   "execution_count": null,
   "metadata": {
    "id": "D8epgQvCcQ_q"
   },
   "outputs": [],
   "source": [
    "# Create a correlation map of features to explore relationships between features\n",
    "# Hint: Explore seaborn heatmap"
   ]
  },
  {
   "cell_type": "code",
   "execution_count": null,
   "metadata": {
    "id": "-7YOz_s1cQ_q"
   },
   "outputs": [],
   "source": [
    "# Explore the continuous independent features against child_mort using scatter plots."
   ]
  },
  {
   "cell_type": "code",
   "execution_count": null,
   "metadata": {
    "id": "Q-_0zEJwcQ_r"
   },
   "outputs": [],
   "source": [
    "# Explore the continuous independent features against gdpp using scatter plots."
   ]
  },
  {
   "cell_type": "code",
   "execution_count": null,
   "metadata": {
    "id": "mkMahUHScQ_r"
   },
   "outputs": [],
   "source": [
    "# Create a pair plot\n",
    "# Hint: Explore seaborn pairplot"
   ]
  },
  {
   "cell_type": "markdown",
   "metadata": {
    "id": "4mra7lOQjMWl"
   },
   "source": [
    "Note the peaks in the diagonal graphs that are distinct from each other or only overlap slightly. Looking at the scatter plot distributions may also give you some indication of features that would be good candidates for clustering the data."
   ]
  },
  {
   "cell_type": "markdown",
   "metadata": {
    "id": "b2eYiLdBcQ_r"
   },
   "source": [
    "### Scaling the Data"
   ]
  },
  {
   "cell_type": "code",
   "execution_count": null,
   "metadata": {
    "id": "Rgbk4gwVcQ_r"
   },
   "outputs": [],
   "source": [
    "# Normalise the data using MinMaxScaler\n",
    "# Name the normalised dataframe \"df_scaled\"\n",
    "\n",
    "\n",
    "# df_scaled.head()"
   ]
  },
  {
   "cell_type": "markdown",
   "metadata": {
    "id": "Vj2i6hqUcQ_s"
   },
   "source": [
    "## K-Means Clustering"
   ]
  },
  {
   "cell_type": "markdown",
   "metadata": {
    "id": "tfHbSfhZcQ_s"
   },
   "source": [
    "### Selecting K"
   ]
  },
  {
   "cell_type": "code",
   "execution_count": null,
   "metadata": {
    "id": "ehdFswI2cQ_s"
   },
   "outputs": [],
   "source": [
    "# Plot elbow curve\n",
    "def eval_Kmeans(x, k, r):\n",
    "    kmeans = KMeans(n_clusters=k, random_state=r, max_iter=500)\n",
    "    kmeans.fit(x)\n",
    "    return kmeans.inertia_\n",
    "\n",
    "def elbow_Kmeans(x, max_k=10, r=42):\n",
    "    within_cluster_vars = [eval_Kmeans(x, k, r) for k in range(1, max_k+1)]\n",
    "    plt.plot(range(1, 11), within_cluster_vars,marker='o')\n",
    "    plt.xlabel('K')\n",
    "    plt.ylabel('Inertia')\n",
    "    plt.show()\n",
    "\n",
    "    # Plot elbow curve using scaled dataset"
   ]
  },
  {
   "cell_type": "code",
   "execution_count": null,
   "metadata": {
    "id": "AdjlzUpccQ_s"
   },
   "outputs": [],
   "source": [
    "# Silhouette score method\n",
    "kmax = 10\n",
    "sil = []\n",
    "plt.plot()\n",
    "for k in range(2, kmax+1):\n",
    "    kmeans = KMeans(n_clusters=k, random_state=rseed, max_iter=500)\n",
    "    kmeans.fit(df_scaled)\n",
    "    labels = kmeans.labels_\n",
    "    sil.append(silhouette_score(df_scaled, labels, metric='euclidean'))\n",
    "\n",
    "sns.lineplot(x=range(2, kmax+1), y=sil)\n",
    "plt.title('Silhouette Score Method')\n",
    "plt.xlabel('k : Number of clusters')\n",
    "plt.ylabel(\"Silhouette Score\")\n",
    "plt.grid(visible=True)\n",
    "plt.show()"
   ]
  },
  {
   "cell_type": "markdown",
   "metadata": {
    "id": "azuZRHfAcQ_s"
   },
   "source": [
    "Based on the elbow and silhouette score method choose a value for K."
   ]
  },
  {
   "cell_type": "markdown",
   "metadata": {
    "id": "qDYny55RcQ_t"
   },
   "source": [
    "## Fitting a K-Means Model with the selected K value"
   ]
  },
  {
   "cell_type": "code",
   "execution_count": null,
   "metadata": {
    "id": "pqsz3AC6cQ_t"
   },
   "outputs": [],
   "source": [
    "# Remember to set the random_state to rseed"
   ]
  },
  {
   "cell_type": "code",
   "execution_count": null,
   "metadata": {
    "id": "1ioenbYPcQ_t"
   },
   "outputs": [],
   "source": [
    "# Count the number of records in each cluster"
   ]
  },
  {
   "cell_type": "code",
   "execution_count": null,
   "metadata": {
    "id": "6Y6QzU5dcQ_t"
   },
   "outputs": [],
   "source": [
    "# Check model performance with the silhouette coefficient"
   ]
  },
  {
   "cell_type": "markdown",
   "metadata": {
    "id": "rSktIkwFcQ_t"
   },
   "source": [
    "## Predictions"
   ]
  },
  {
   "cell_type": "code",
   "execution_count": null,
   "metadata": {
    "id": "jrHNMCvWcQ_t"
   },
   "outputs": [],
   "source": [
    "# Add the predicted cluster label column to the original dataframe"
   ]
  },
  {
   "cell_type": "markdown",
   "metadata": {
    "id": "mF2y_udPcQ_u"
   },
   "source": [
    "## Visualisation of clusters"
   ]
  },
  {
   "cell_type": "code",
   "execution_count": null,
   "metadata": {
    "id": "bglmD7tdcQ_u"
   },
   "outputs": [],
   "source": [
    "# Visualisation of clusters: child mortality vs gdpp"
   ]
  },
  {
   "cell_type": "code",
   "execution_count": null,
   "metadata": {
    "id": "Y3aMOedLcQ_u"
   },
   "outputs": [],
   "source": [
    "# Visualisation of clusters: inflation vs gdpp"
   ]
  },
  {
   "cell_type": "markdown",
   "metadata": {
    "id": "Qgc_p1BncQ_u"
   },
   "source": [
    "## Conclusions"
   ]
  },
  {
   "cell_type": "markdown",
   "metadata": {
    "id": "p0CQbL9ecQ_u"
   },
   "source": [
    "Label the groups of countries in the plots you created based on child mortality, GDPP and inflation. You may use [terms](https://en.wikipedia.org/wiki/Developing_country#Terms_used_to_classify_countries) such as: least developed, developing and developed, or low, low-middle, upper-middle and high income. Alternatively, simply rank them from highest to lowest. Justify the labels you assign to each group.\n"
   ]
  },
  {
   "cell_type": "markdown",
   "metadata": {
    "id": "Q0gBlVsQcQ_u"
   },
   "source": [
    "**Answer here:**"
   ]
  },
  {
   "cell_type": "code",
   "execution_count": null,
   "metadata": {},
   "outputs": [],
   "source": [
    "# Import necessary libraries\n",
    "import pandas as pd\n",
    "import numpy as np\n",
    "\n",
    "# Load the data\n",
    "df = pd.read_csv('Country-data.csv')\n",
    "df.head()\n"
   ]
  },
  {
   "cell_type": "code",
   "execution_count": null,
   "metadata": {},
   "outputs": [],
   "source": [
    "# Check for missing values\n",
    "df.isnull().sum()\n"
   ]
  },
  {
   "cell_type": "code",
   "execution_count": null,
   "metadata": {},
   "outputs": [],
   "source": [
    "# Data Preprocessing: Drop non-numeric column 'country'\n",
    "df.drop('country', axis=1, inplace=True)\n"
   ]
  },
  {
   "cell_type": "code",
   "execution_count": null,
   "metadata": {},
   "outputs": [],
   "source": [
    "# Feature Scaling (if needed)\n",
    "# You can apply feature scaling if necessary, but it's not required for K-Means clustering.\n"
   ]
  },
  {
   "cell_type": "code",
   "execution_count": null,
   "metadata": {},
   "outputs": [],
   "source": [
    "# K-Means Clustering - Choosing the number of clusters (K) using the Elbow method\n",
    "import matplotlib.pyplot as plt\n",
    "from sklearn.cluster import KMeans\n",
    "\n",
    "def eval_Kmeans(x, k, r):\n",
    "    kmeans = KMeans(n_clusters=k, random_state=r)\n",
    "    kmeans.fit(x)\n",
    "    return kmeans.inertia_\n",
    "\n",
    "def elbow_Kmeans(x, max_k=10, r=123):\n",
    "    within_cluster_vars = [eval_Kmeans(x, k, r) for k in range(1, max_k + 1)]\n",
    "    plt.plot(range(1, max_k + 1), within_cluster_vars, marker='o')\n",
    "    plt.xlabel('K')\n",
    "    plt.ylabel('Inertia')\n",
    "    plt.show()\n",
    "\n",
    "elbow_Kmeans(df.values)\n"
   ]
  },
  {
   "cell_type": "code",
   "execution_count": null,
   "metadata": {},
   "outputs": [],
   "source": [
    "# K-Means Clustering - Choosing the number of clusters (K) using the Silhouette Score method\n",
    "import seaborn as sns\n",
    "from sklearn.metrics import silhouette_score\n",
    "\n",
    "kmax = 10\n",
    "sil = []\n",
    "plt.plot()\n",
    "for k in range(2, kmax + 1):\n",
    "    kmeans = KMeans(n_clusters=k, random_state=0)\n",
    "    kmeans.fit(df.values)\n",
    "    labels = kmeans.labels_\n",
    "    sil.append(silhouette_score(df.values, labels, metric='euclidean'))\n",
    "\n",
    "sns.lineplot(x=range(2, kmax + 1), y=sil)\n",
    "plt.title('Silhouette Score Method')\n",
    "plt.xlabel('k : Number of clusters')\n",
    "plt.ylabel(\"Silhouette Score\")\n",
    "plt.grid(visible=True)\n",
    "plt.show()\n"
   ]
  },
  {
   "cell_type": "code",
   "execution_count": null,
   "metadata": {},
   "outputs": [],
   "source": [
    "# K-Means Clustering - Fit a K-Means model and visualize the outcome\n",
    "from sklearn.cluster import KMeans\n",
    "import matplotlib.pyplot as plt\n",
    "import seaborn as sns\n",
    "from sklearn.metrics import silhouette_score\n",
    "\n",
    "# Fit a K-Means Model and Visualize the Outcome\n",
    "def scatter_Kmeans(x, k, r=123):\n",
    "    kmeans = KMeans(n_clusters=k, init='k-means++', random_state=r)\n",
    "    y_pred = kmeans.fit_predict(x)\n",
    "    colours = 'rbgcmy'\n",
    "    for c in range(k):\n",
    "        plt.scatter(x[y_pred == c, 0], x[y_pred == c, 1], c=colours[c], label=f'Cluster {c}')\n",
    "        plt.scatter(kmeans.cluster_centers_[c, 0], kmeans.cluster_centers_[c, 1], marker='x', c='black')\n",
    "\n",
    "    score = round(silhouette_score(x, kmeans.labels_, metric='euclidean'), 2)\n",
    "    plt.title(f'Silhouette Score = {score}')\n",
    "    plt.xlabel('Feature 1')\n",
    "    plt.ylabel('Feature 2')\n",
    "    plt.legend()\n",
    "    plt.show()\n",
    "\n",
    "# Scatter plot for K=3\n",
    "scatter_Kmeans(df.values, 3, r=0)\n"
   ]
  }
 ],
 "metadata": {
  "colab": {
   "provenance": []
  },
  "kernelspec": {
   "display_name": "Python 3 (ipykernel)",
   "language": "python",
   "name": "python3"
  },
  "language_info": {
   "codemirror_mode": {
    "name": "ipython",
    "version": 3
   },
   "file_extension": ".py",
   "mimetype": "text/x-python",
   "name": "python",
   "nbconvert_exporter": "python",
   "pygments_lexer": "ipython3",
   "version": "3.11.3"
  }
 },
 "nbformat": 4,
 "nbformat_minor": 1
}
